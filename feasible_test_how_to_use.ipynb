{
 "cells": [
  {
   "cell_type": "code",
   "execution_count": 7,
   "metadata": {
    "collapsed": true
   },
   "outputs": [],
   "source": [
    "import feasible_test as ft\n",
    "import feasible_test_with_print_error as fterr"
   ]
  },
  {
   "cell_type": "code",
   "execution_count": 8,
   "metadata": {},
   "outputs": [
    {
     "name": "stdout",
     "output_type": "stream",
     "text": [
      "True\n",
      "False\n",
      "False\n",
      "False\n",
      "------------------------------------\n",
      "True\n",
      "Error: 所有的課程應該都被排下去\n",
      "False\n",
      "Error: 不可以有重複課程\n",
      "False\n",
      "發現衝突:(307942001,307870001), 位於時間(12,14)\n",
      "Error: 老師同一個時間不能出現在兩間教室(同一時段無重複教授)\n",
      "False\n"
     ]
    }
   ],
   "source": [
    "schedule_feasible = ['306000001','','306008001','356461001','','306016002','356425001','','306016012','307873001','','307867001','','','307870001',\n",
    " '306016022','307857001','306050011','','356388001','307851001','306525001','','307035001','','356395001','307034001','356564001','306736001','306737001',\n",
    "'307932001','','356822001','','356389001','356019001','','356387001','307901001','356813001','','356808001','','','307942001']\n",
    "\n",
    "schedule_miss_class = ['','','306008001','','','306016002','356425001','','306016012','307873001','','307867001','307942001','','307870001',\n",
    " '306016022','307857001','306050011','356387001','356388001','307851001','306525001','','307035001','306736001','356395001','307034001','356461001','','306737001',\n",
    "'307932001','','356822001','','356389001','356019001','356564001','','307901001','356813001','','356808001','','','']\n",
    "\n",
    "schedule_multiple_course = ['306000001','306000001','306008001','','','306016002','356425001','','306016012','307873001','','307867001','307942001','','307870001',\n",
    " '306016022','307857001','306050011','356387001','356388001','307851001','306525001','','307035001','306736001','356395001','307034001','356461001','','306737001',\n",
    "'307932001','','356822001','','356389001','356019001','356564001','','307901001','356813001','','356808001','','','']\n",
    "\n",
    "schedule_multiple_profeesor = ['','','306008001','306016002','306000001','','356425001','','306016012','307873001','','307867001','307942001','','307870001',\n",
    " '306016022','307857001','306050011','356387001','356388001','307851001','306525001','','307035001','306736001','356395001','307034001','356461001','','306737001',\n",
    "'307932001','','356822001','','356389001','356019001','356564001','','307901001','356813001','','356808001','','','']\n",
    "\n",
    "print(ft.feasible_test(schedule_feasible))\n",
    "print(ft.feasible_test(schedule_miss_class))\n",
    "print(ft.feasible_test(schedule_multiple_course))\n",
    "print(ft.feasible_test(schedule_multiple_profeesor))\n",
    "print(\"------------------------------------\")\n",
    "print(fterr.feasible_test(schedule_feasible))\n",
    "print(fterr.feasible_test(schedule_miss_class))\n",
    "print(fterr.feasible_test(schedule_multiple_course))\n",
    "print(fterr.feasible_test(schedule_multiple_profeesor))"
   ]
  },
  {
   "cell_type": "code",
   "execution_count": null,
   "metadata": {
    "collapsed": true
   },
   "outputs": [],
   "source": []
  }
 ],
 "metadata": {
  "kernelspec": {
   "display_name": "Python 3",
   "language": "python",
   "name": "python3"
  },
  "language_info": {
   "codemirror_mode": {
    "name": "ipython",
    "version": 3
   },
   "file_extension": ".py",
   "mimetype": "text/x-python",
   "name": "python",
   "nbconvert_exporter": "python",
   "pygments_lexer": "ipython3",
   "version": "3.6.3"
  },
  "varInspector": {
   "cols": {
    "lenName": 16,
    "lenType": 16,
    "lenVar": 40
   },
   "kernels_config": {
    "python": {
     "delete_cmd_postfix": "",
     "delete_cmd_prefix": "del ",
     "library": "var_list.py",
     "varRefreshCmd": "print(var_dic_list())"
    },
    "r": {
     "delete_cmd_postfix": ") ",
     "delete_cmd_prefix": "rm(",
     "library": "var_list.r",
     "varRefreshCmd": "cat(var_dic_list()) "
    }
   },
   "types_to_exclude": [
    "module",
    "function",
    "builtin_function_or_method",
    "instance",
    "_Feature"
   ],
   "window_display": false
  }
 },
 "nbformat": 4,
 "nbformat_minor": 2
}
