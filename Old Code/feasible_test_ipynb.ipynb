{
 "cells": [
  {
   "cell_type": "code",
   "execution_count": 3,
   "metadata": {
    "collapsed": true
   },
   "outputs": [],
   "source": [
    "import csv\n",
    "dataset = []\n",
    "course_name = []\n",
    "classroom = []\n",
    "professor_name = []\n",
    "\n",
    "with open(\"course.csv\",\"r\",encoding=\"utf-8\") as fIn:\n",
    "    csvIn = csv.reader(fIn)\n",
    "    for line in csvIn:\n",
    "        dataset.append(line)\n",
    "        course_name.append(line[0])\n",
    "        classroom.append(line[2]) \n",
    "        professor_name.append(line[3]) \n",
    "        \n",
    "course_name = course_name[1:]\n",
    "classroom = classroom[1:]\n",
    "professor_name = professor_name[1:]"
   ]
  },
  {
   "cell_type": "code",
   "execution_count": 19,
   "metadata": {
    "collapsed": true
   },
   "outputs": [],
   "source": [
    "# dataset"
   ]
  },
  {
   "cell_type": "code",
   "execution_count": 20,
   "metadata": {
    "collapsed": true
   },
   "outputs": [],
   "source": [
    "# all_course"
   ]
  },
  {
   "cell_type": "code",
   "execution_count": 21,
   "metadata": {
    "collapsed": true
   },
   "outputs": [],
   "source": [
    "# all_professor"
   ]
  },
  {
   "cell_type": "code",
   "execution_count": 22,
   "metadata": {
    "collapsed": true
   },
   "outputs": [],
   "source": [
    "# for i in range(0,45,3):\n",
    "#     print(i)"
   ]
  },
  {
   "cell_type": "code",
   "execution_count": null,
   "metadata": {
    "collapsed": true
   },
   "outputs": [],
   "source": []
  },
  {
   "cell_type": "code",
   "execution_count": null,
   "metadata": {
    "collapsed": true
   },
   "outputs": [],
   "source": []
  },
  {
   "cell_type": "code",
   "execution_count": 34,
   "metadata": {},
   "outputs": [],
   "source": [
    "def feasible_test(test_schedule):\n",
    "    '''\n",
    "    1.所有的課程應該都被排下去\n",
    "    2.老師同一個時間不能出現在兩間教室\n",
    "    3.教室不可重複使用\n",
    "    '''\n",
    "\n",
    "    # 1.所有的課程應該都被排下去\n",
    "    for data in course_name:\n",
    "        if data == \"\":\n",
    "            pass\n",
    "        elif data in test_schedule: #課程皆可在原始資料中被找到\n",
    "            pass\n",
    "        else:\n",
    "            print(\"Error: 所有的課程應該都被排下去\")\n",
    "            return False\n",
    "\n",
    "    # 2.不可以有重複課程\n",
    "    for data in test_schedule:\n",
    "        if data == \"\":\n",
    "            pass\n",
    "        elif test_schedule.count(data) == 1: #課程只有一個\n",
    "            pass\n",
    "        else:\n",
    "            print(\"Error: 不可以有重複課程\")\n",
    "            return False\n",
    "        \n",
    "    # 3.老師同一個時間不能出現在兩間教室(同一時段無重複教授)\n",
    "    # (0 1 2),(3 4 5),(6 7 8)\n",
    "    for i in range(0,45,3):\n",
    "        if test_schedule[i] == \"\" or test_schedule[i+1] == \"\":\n",
    "            pass\n",
    "        else:\n",
    "            course_name_index1 = course_name.index(test_schedule[i])\n",
    "            course_name_index2 = course_name.index(test_schedule[i+1])\n",
    "            if professor_name[course_name_index1] == professor_name[course_name_index2]:\n",
    "                print(\"發現衝突:({},{}), 位於時間({},{})\".format(test_schedule[i],test_schedule[i+1],i,i+1))\n",
    "                print(\"Error: 老師同一個時間不能出現在兩間教室(同一時段無重複教授)\")\n",
    "                return False\n",
    "        \n",
    "        if test_schedule[i+1] == \"\" or test_schedule[i+2] == \"\":\n",
    "            pass\n",
    "        else:\n",
    "            course_name_index2 = course_name.index(test_schedule[i+1])\n",
    "            course_name_index3 = course_name.index(test_schedule[i+2])\n",
    "            if professor_name[course_name_index2] == professor_name[course_name_index3]:\n",
    "                print(\"發現衝突:({},{}), 位於時間({},{})\".format(test_schedule[i+1],test_schedule[i+2],i+1,i+2))\n",
    "                print(\"Error: 老師同一個時間不能出現在兩間教室(同一時段無重複教授)\")\n",
    "                return False\n",
    "        \n",
    "        if test_schedule[i] == \"\" or test_schedule[i+2] == \"\":\n",
    "            pass\n",
    "        else:\n",
    "            course_name_index1 = course_name.index(test_schedule[i])\n",
    "            course_name_index3 = course_name.index(test_schedule[i+2])\n",
    "            if professor_name[course_name_index1] == professor_name[course_name_index3]:\n",
    "                print(\"發現衝突:({},{}), 位於時間({},{})\".format(test_schedule[i],test_schedule[i+2],i,i+2))\n",
    "                print(\"Error: 老師同一個時間不能出現在兩間教室(同一時段無重複教授)\")\n",
    "                return False\n",
    " \n",
    "\n",
    "#     # 4.教室不可重複使用\n",
    "#     # (0 1 2),(3 4 5),(6 7 8)\n",
    "#     for i in range(0,45,3):\n",
    "#         if test_schedule[i] == \"\" or test_schedule[i+1] == \"\":\n",
    "#             pass\n",
    "#         else:\n",
    "#             course_name_index1 = course_name.index(test_schedule[i])\n",
    "#             course_name_index2 = course_name.index(test_schedule[i+1])\n",
    "#             if classroom[course_name_index1] == classroom[course_name_index2]:\n",
    "#                 print(\"發現衝突:({},{}), 位於時間({},{})\".format(test_schedule[i],test_schedule[i+1],i,i+1))\n",
    "#                 print(\"Error: 教室不可重複使用\")\n",
    "#                 return False\n",
    "        \n",
    "#         if test_schedule[i+1] == \"\" or test_schedule[i+2] == \"\":\n",
    "#             pass\n",
    "#         else:\n",
    "#             course_name_index2 = course_name.index(test_schedule[i+1])\n",
    "#             course_name_index3 = course_name.index(test_schedule[i+2])\n",
    "#             if classroom[course_name_index2] == classroom[course_name_index3]:\n",
    "#                 print(\"發現衝突:({},{}), 位於時間({},{})\".format(test_schedule[i+1],test_schedule[i+2],i+1,i+2))\n",
    "#                 print(\"Error: 教室不可重複使用\")\n",
    "#                 return False\n",
    "        \n",
    "#         if test_schedule[i] == \"\" or test_schedule[i+2] == \"\":\n",
    "#             pass\n",
    "#         else:\n",
    "#             course_name_index1 = course_name.index(test_schedule[i])\n",
    "#             course_name_index3 = course_name.index(test_schedule[i+2])\n",
    "#             if classroom[course_name_index1] == classroom[course_name_index3]:\n",
    "#                 print(\"發現衝突:({},{}), 位於時間({},{})\".format(test_schedule[i],test_schedule[i+2],i,i+2))\n",
    "#                 print(\"Error: 教室不可重複使用\")\n",
    "#                 return False\n",
    "\n",
    "    return True\n",
    "\n",
    "\n"
   ]
  },
  {
   "cell_type": "code",
   "execution_count": null,
   "metadata": {
    "collapsed": true
   },
   "outputs": [],
   "source": []
  },
  {
   "cell_type": "code",
   "execution_count": 35,
   "metadata": {},
   "outputs": [
    {
     "name": "stdout",
     "output_type": "stream",
     "text": [
      "True\n",
      "Error: 所有的課程應該都被排下去\n",
      "False\n",
      "Error: 不可以有重複課程\n",
      "False\n",
      "發現衝突:(307942001,307870001), 位於時間(12,14)\n",
      "Error: 老師同一個時間不能出現在兩間教室(同一時段無重複教授)\n",
      "False\n"
     ]
    }
   ],
   "source": [
    "schedule_feasible = ['306000001','','306008001','356461001','','306016002','356425001','','306016012','307873001','','307867001','','','307870001',\n",
    " '306016022','307857001','306050011','','356388001','307851001','306525001','','307035001','','356395001','307034001','356564001','306736001','306737001',\n",
    "'307932001','','356822001','','356389001','356019001','','356387001','307901001','356813001','','356808001','','','307942001']\n",
    "\n",
    "schedule_feasible2 = ['','','306008001','306016002','306000001','','356425001','','306016012','307873001','','307867001','307942001','','307870001',\n",
    " '306016022','307857001','306050011','356387001','356388001','307851001','306525001','','307035001','306736001','356395001','307034001','356461001','','306737001',\n",
    "'307932001','','356822001','','356389001','356019001','356564001','','307901001','356813001','','356808001','','','']\n",
    "\n",
    "schedule_miss_class = ['','','306008001','','','306016002','356425001','','306016012','307873001','','307867001','307942001','','307870001',\n",
    " '306016022','307857001','306050011','356387001','356388001','307851001','306525001','','307035001','306736001','356395001','307034001','356461001','','306737001',\n",
    "'307932001','','356822001','','356389001','356019001','356564001','','307901001','356813001','','356808001','','','']\n",
    "\n",
    "schedule_multiple_class = ['306000001','306000001','306008001','','','306016002','356425001','','306016012','307873001','','307867001','307942001','','307870001',\n",
    " '306016022','307857001','306050011','356387001','356388001','307851001','306525001','','307035001','306736001','356395001','307034001','356461001','','306737001',\n",
    "'307932001','','356822001','','356389001','356019001','356564001','','307901001','356813001','','356808001','','','']\n",
    "\n",
    "print(feasible_test(schedule_feasible))\n",
    "print(feasible_test(schedule_miss_class))\n",
    "print(feasible_test(schedule_multiple_class))\n",
    "print(feasible_test(schedule_feasible2))"
   ]
  },
  {
   "cell_type": "code",
   "execution_count": null,
   "metadata": {
    "collapsed": true
   },
   "outputs": [],
   "source": []
  },
  {
   "cell_type": "code",
   "execution_count": null,
   "metadata": {
    "collapsed": true
   },
   "outputs": [],
   "source": []
  },
  {
   "cell_type": "code",
   "execution_count": null,
   "metadata": {
    "collapsed": true
   },
   "outputs": [],
   "source": []
  }
 ],
 "metadata": {
  "kernelspec": {
   "display_name": "Python 3",
   "language": "python",
   "name": "python3"
  },
  "language_info": {
   "codemirror_mode": {
    "name": "ipython",
    "version": 3
   },
   "file_extension": ".py",
   "mimetype": "text/x-python",
   "name": "python",
   "nbconvert_exporter": "python",
   "pygments_lexer": "ipython3",
   "version": "3.6.3"
  },
  "varInspector": {
   "cols": {
    "lenName": 16,
    "lenType": 16,
    "lenVar": 40
   },
   "kernels_config": {
    "python": {
     "delete_cmd_postfix": "",
     "delete_cmd_prefix": "del ",
     "library": "var_list.py",
     "varRefreshCmd": "print(var_dic_list())"
    },
    "r": {
     "delete_cmd_postfix": ") ",
     "delete_cmd_prefix": "rm(",
     "library": "var_list.r",
     "varRefreshCmd": "cat(var_dic_list()) "
    }
   },
   "types_to_exclude": [
    "module",
    "function",
    "builtin_function_or_method",
    "instance",
    "_Feature"
   ],
   "window_display": false
  }
 },
 "nbformat": 4,
 "nbformat_minor": 2
}
