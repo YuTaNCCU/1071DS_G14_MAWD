{
 "cells": [
  {
   "cell_type": "code",
   "execution_count": 1,
   "metadata": {},
   "outputs": [
    {
     "name": "stdout",
     "output_type": "stream",
     "text": [
      "False\n",
      "False\n"
     ]
    }
   ],
   "source": [
    "import feasible_test as ft\n",
    "import feasible_test_with_print_error as fterr\n",
    "import random\n",
    "\n",
    "temp_schedule = ['306000001','','306008001','','','306016002','356425001','','306016012','307873001','','307867001','307942001','','307870001',\n",
    " '306016022','307857001','306050011','356387001','356388001','307851001','306525001','','307035001','306736001','356395001','307034001','356461001','','306737001',\n",
    "'307932001','','356822001','','356389001','356019001','356564001','','307901001','356813001','','356808001','','','']\n",
    "\n",
    "temp_schedule2 = ['306000001','306000001','306008001','','','306016002','356425001','','306016012','307873001','','307867001','307942001','','307870001',\n",
    " '306016022','307857001','306050011','356387001','356388001','307851001','306525001','','307035001','306736001','356395001','307034001','356461001','','306737001',\n",
    "'307932001','','356822001','','356389001','356019001','356564001','','307901001','356813001','','356808001','','','']\n",
    "\n",
    "print(ft.feasible_test(temp_schedule))\n",
    "print(ft.feasible_test(temp_schedule2))"
   ]
  },
  {
   "cell_type": "code",
   "execution_count": null,
   "metadata": {
    "collapsed": true
   },
   "outputs": [],
   "source": [
    "def cross(schedule_1,schedule_2):\n",
    "    # select cross index\n",
    "    cross_index1 = random.randint(0, len(schedule_1)-1)\n",
    "    cross_index2 = random.randint(0, len(schedule_2)-1)\n",
    "    while(cross_index1 >= cross_index2):\n",
    "        cross_index1 = random.randint(0, len(schedule_1)-1)\n",
    "        cross_index2 = random.randint(0, len(schedule_2)-1)\n",
    "    cross_index1 = 2\n",
    "    cross_index2 = 6\n",
    "\n",
    "    \n",
    "    print(\"({},{})\".format(cross_index1,cross_index2))\n",
    "\n",
    "    # make new schedule\n",
    "    new_schedule = schedule_1[0: cross_index1] + schedule_2[cross_index1 : cross_index2] + schedule_1[cross_index2 : 45]   \n",
    "#     print(new_schedule)\n",
    "    \n",
    "    # origin\n",
    "    # 2 8 | 6 4 5 | 7 1 3\n",
    "    # 8 7 | 2 1 3 | 4 6 5\n",
    "    \n",
    "    # cross finish\n",
    "    # 2 8 | 2 1 3 | 7 1 3\n",
    "    # 8 7 | 6 4 5 | 4 6 5 \n",
    "    \n",
    "    # fix (ex: 2去換回\"自己\"原本有的6)\n",
    "    # 6 8 | 2 1 3 | 7 4 5\n",
    "    # 8 7 | 6 4 5 | 4 6 5\n",
    "    \n",
    "    for i in range(cross_index1,cross_index2): #cross範圍\n",
    "        data = new_schedule[i] # i位置資料 (ex:此處是2)\n",
    "        data_index = schedule_1.index(data) #此筆資料位於原schedule的什麼位置 (ex:此處2找到位於為schedule \"0的位置\" )\n",
    "#         print(data_index)\n",
    "        new_schedule[data_index] = schedule_1[i] # new_schedule的該位置換成cross對應字串 (ex:此處原\"0的位置\" 2換成 \"i對應位置的6\" )\n",
    "#         print(new_schedule[data_index])\n",
    "\n",
    "    return new_schedule\n",
    "  \n",
    "    "
   ]
  },
  {
   "cell_type": "code",
   "execution_count": null,
   "metadata": {},
   "outputs": [],
   "source": [
    "# print(ft.feasible_test(temp_schedule))\n",
    "# print(ft.feasible_test(temp_schedule2))\n",
    "result = False\n",
    "\n",
    "for i in range(100):\n",
    "# while(result == False):\n",
    "    new_schedule = cross(temp_schedule,temp_schedule2)\n",
    "#     print(new_schedule)\n",
    "    result = ft.feasible_test(new_schedule)    \n",
    "    if result == True:\n",
    "        print(\"第{}次 : 找到feasible解!\".format(i))\n",
    "        \n",
    "    new_schedule2 = cross(temp_schedule2,temp_schedule)\n",
    "    result = ft.feasible_test(new_schedule2)\n",
    "    if result == True:\n",
    "        print(\"第{}次 : 找到feasible解!\".format(i))\n",
    "    \n",
    "    print(new_schedule)\n",
    "    print(new_schedule2)\n",
    "    temp_schedule = new_schedule\n",
    "    temp_schedule2 = new_schedule2\n",
    "    \n",
    "\n",
    "    "
   ]
  },
  {
   "cell_type": "code",
   "execution_count": null,
   "metadata": {},
   "outputs": [],
   "source": [
    "a = [2,8,6,4,5,7,1,3]\n",
    "b = [8,7,2,1,3,4,6,5]\n",
    "\n",
    "# origin\n",
    "# 2 8 | 6 4 5 | 7 1 3\n",
    "# 8 7 | 2 1 3 | 4 6 5\n",
    "\n",
    "# cross finish\n",
    "# 2 8 | 2 1 3 | 7 1 3\n",
    "# 8 7 | 6 4 5 | 4 6 5 \n",
    "\n",
    "# fix (ex: 2去換回\"自己\"原本有的6)\n",
    "# 6 8 | 2 1 3 | 7 4 5\n",
    "# 8 7 | 6 4 5 | 4 6 5\n",
    "\n",
    "print(a)\n",
    "result = cross(a,b)\n",
    "print(result)"
   ]
  },
  {
   "cell_type": "code",
   "execution_count": null,
   "metadata": {},
   "outputs": [],
   "source": [
    "import random\n",
    "random.randint(0, 1)\n"
   ]
  },
  {
   "cell_type": "code",
   "execution_count": null,
   "metadata": {},
   "outputs": [],
   "source": [
    "mystr = \"happy\"\n",
    "mystr[0:2]+\",\"+mystr[2:4]+\",\"+mystr[4:5]"
   ]
  },
  {
   "cell_type": "code",
   "execution_count": null,
   "metadata": {},
   "outputs": [],
   "source": [
    "for i in range(2, 4):\n",
    "    print(mystr[i])"
   ]
  },
  {
   "cell_type": "code",
   "execution_count": 3,
   "metadata": {},
   "outputs": [
    {
     "name": "stdout",
     "output_type": "stream",
     "text": [
      "True\n",
      "False\n",
      "False\n",
      "False\n",
      "True\n",
      "Error: 所有的課程應該都被排下去\n",
      "False\n",
      "Error: 不可以有重複課程\n",
      "False\n",
      "Error: 不可以有重複課程\n",
      "False\n"
     ]
    }
   ],
   "source": [
    "schedule_feasible = ['306000001','','306008001','356461001','','306016002','356425001','','306016012','307873001','','307867001','','','307870001',\n",
    " '306016022','307857001','306050011','','356388001','307851001','306525001','','307035001','','356395001','307034001','356564001','306736001','306737001',\n",
    "'307932001','','356822001','','356389001','356019001','','356387001','307901001','356813001','','356808001','','','307942001']\n",
    "\n",
    "schedule_feasible2 = ['','','306008001','306016002','306000001','','356425001','','306016012','307873001','','307867001','307942001','','307870001',\n",
    " '306016022','307857001','306050011','356387001','356388001','307851001','306525001','','307035001','306736001','356395001','307034001','356461001','','306737001',\n",
    "'307932001','','356822001','','356389001','356019001','356564001','','307901001','356813001','','356808001','','','']\n",
    "\n",
    "schedule_miss_class = ['','','306008001','','','306016002','356425001','','306016012','307873001','','307867001','307942001','','307870001',\n",
    " '306016022','307857001','306050011','356387001','356388001','307851001','306525001','','307035001','306736001','356395001','307034001','356461001','','306737001',\n",
    "'307932001','','356822001','','356389001','356019001','356564001','','307901001','356813001','','356808001','','','']\n",
    "\n",
    "schedule_multiple_profeesor = ['306000001','306000001','306008001','','','306016002','356425001','','306016012','307873001','','307867001','307942001','','307870001',\n",
    " '306016022','307857001','306050011','356387001','356388001','307851001','306525001','','307035001','306736001','356395001','307034001','356461001','','306737001',\n",
    "'307932001','','356822001','','356389001','356019001','356564001','','307901001','356813001','','356808001','','','']\n",
    "\n",
    "print(ft.feasible_test(schedule_feasible))\n",
    "print(ft.feasible_test(schedule_miss_class))\n",
    "print(ft.feasible_test(schedule_multiple_class))\n",
    "print(ft.feasible_test(schedule_multiple_profeesor))\n",
    "\n",
    "print(fterr.feasible_test(schedule_feasible))\n",
    "print(fterr.feasible_test(schedule_miss_class))\n",
    "print(fterr.feasible_test(schedule_multiple_class))\n",
    "print(fterr.feasible_test(schedule_multiple_profeesor))"
   ]
  },
  {
   "cell_type": "code",
   "execution_count": null,
   "metadata": {
    "collapsed": true
   },
   "outputs": [],
   "source": []
  }
 ],
 "metadata": {
  "kernelspec": {
   "display_name": "Python 3",
   "language": "python",
   "name": "python3"
  },
  "language_info": {
   "codemirror_mode": {
    "name": "ipython",
    "version": 3
   },
   "file_extension": ".py",
   "mimetype": "text/x-python",
   "name": "python",
   "nbconvert_exporter": "python",
   "pygments_lexer": "ipython3",
   "version": "3.6.3"
  },
  "varInspector": {
   "cols": {
    "lenName": 16,
    "lenType": 16,
    "lenVar": 40
   },
   "kernels_config": {
    "python": {
     "delete_cmd_postfix": "",
     "delete_cmd_prefix": "del ",
     "library": "var_list.py",
     "varRefreshCmd": "print(var_dic_list())"
    },
    "r": {
     "delete_cmd_postfix": ") ",
     "delete_cmd_prefix": "rm(",
     "library": "var_list.r",
     "varRefreshCmd": "cat(var_dic_list()) "
    }
   },
   "types_to_exclude": [
    "module",
    "function",
    "builtin_function_or_method",
    "instance",
    "_Feature"
   ],
   "window_display": false
  }
 },
 "nbformat": 4,
 "nbformat_minor": 2
}
