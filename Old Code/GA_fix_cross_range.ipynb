{
 "cells": [
  {
   "cell_type": "code",
   "execution_count": 1,
   "metadata": {},
   "outputs": [
    {
     "name": "stdout",
     "output_type": "stream",
     "text": [
      "64.47452300785633\n",
      "rule1:  55.24691358024691\n",
      "[2, 1, 2, 2, 2, 3, 3, 2, 3, 2, 2, 2, 2, 2, 0]\n",
      "68 60.0 75.0\n",
      "rule2:  89.33333333333333\n",
      "rule3:  30.42424242424242\n",
      "rule4:  36.0\n",
      "Objval: 56.320426487093144\n",
      "56.320426487093144\n"
     ]
    }
   ],
   "source": [
    "import feasible_test as ft\n",
    "import feasible_test_with_print_error as fterr\n",
    "import random\n",
    "import functions as func\n",
    "import functions_with_print as funcpt\n",
    "import pandas as pd\n",
    "import numpy as np\n",
    "\n",
    "#讀取courseDetail\n",
    "courseDetail = pd.read_csv('data/course.csv')[['course code', 'Number of students', 'instructor']]\n",
    "courseDetail['course code']=courseDetail['course code'].astype(str)\n",
    "RoomDetail = pd.read_csv('data/classroom.csv')[['classroom', 'cr_capacity']]\n",
    "\n",
    "#variables\n",
    "roomNum=3 #教室數量\n",
    "weekdays=5 #上課日子\n",
    "dailyParts=3 #parts=將一天劃分為[早上、下午、晚上]\n",
    "period=weekdays*dailyParts #15 一個weekdays中，不分教室的區塊總數\n",
    "session=roomNum*weekdays*dailyParts #45 一個weekdays中，空教室的總數(一維陣列的長度)\n",
    "k=weekdays*roomNum #15 [早上、下午、晚上] 一個part中的session數(索引調整參數)\n",
    "totalCourseNum=30\n",
    "\n",
    "def get_score(schedule):\n",
    "    return func.ObjFun(schedule,courseDetail, roomNum, k, RoomDetail, session, period, totalCourseNum)"
   ]
  },
  {
   "cell_type": "code",
   "execution_count": null,
   "metadata": {
    "collapsed": true
   },
   "outputs": [],
   "source": []
  },
  {
   "cell_type": "code",
   "execution_count": null,
   "metadata": {
    "collapsed": true
   },
   "outputs": [],
   "source": []
  },
  {
   "cell_type": "code",
   "execution_count": null,
   "metadata": {
    "collapsed": true
   },
   "outputs": [],
   "source": []
  },
  {
   "cell_type": "code",
   "execution_count": 2,
   "metadata": {
    "collapsed": true
   },
   "outputs": [],
   "source": [
    "def cross(schedule_1,schedule_2,cross_index1):\n",
    "    # select cross index\n",
    "#     cross_index1 = random.randint(0, len(schedule_1)-1)\n",
    "#     cross_index2 = random.randint(0, len(schedule_2)-1)\n",
    "#     while(cross_index1 >= cross_index2):\n",
    "#         cross_index1 = random.randint(0, len(schedule_1)-1)\n",
    "#         cross_index2 = random.randint(0, len(schedule_2)-1)\n",
    "#     cross_index1 = 2\n",
    "#     cross_index1 = random.randint(0, len(schedule_1)-1-6)\n",
    "    cross_index2 = cross_index1 + 6\n",
    "\n",
    "    \n",
    "#     print(\"({},{})\".format(cross_index1,cross_index2))\n",
    "\n",
    "    # make new schedule\n",
    "    new_schedule = schedule_1[0: cross_index1] + schedule_2[cross_index1 : cross_index2] + schedule_1[cross_index2 : 45]   \n",
    "#     print(new_schedule)\n",
    "    \n",
    "    # origin\n",
    "    # 2 8 | 6 4 5 | 7 1 3\n",
    "    # 8 7 | 2 1 3 | 4 6 5\n",
    "    \n",
    "    # cross finish\n",
    "    # 2 8 | 2 1 3 | 7 1 3\n",
    "    # 8 7 | 6 4 5 | 4 6 5 \n",
    "    \n",
    "    # fix (ex: 2去換回\"自己\"原本有的6)\n",
    "    # 6 8 | 2 1 3 | 7 4 5\n",
    "    # 8 7 | 6 4 5 | 4 6 5\n",
    "    \n",
    "    for i in range(cross_index1,cross_index2): #cross範圍\n",
    "        data = new_schedule[i] # i位置資料 (ex:此處是2)\n",
    "        data_index = schedule_1.index(data) #此筆資料位於原schedule的什麼位置 (ex:此處2找到位於為schedule \"0的位置\" )\n",
    "#         print(data_index)\n",
    "        new_schedule[data_index] = schedule_1[i] # new_schedule的該位置換成cross對應字串 (ex:此處原\"0的位置\" 2換成 \"i對應位置的6\" )\n",
    "#         print(new_schedule[data_index])\n",
    "\n",
    "    return new_schedule\n",
    "  \n",
    "    "
   ]
  },
  {
   "cell_type": "code",
   "execution_count": 15,
   "metadata": {
    "collapsed": true
   },
   "outputs": [],
   "source": [
    "def one_generation(schedule1,schedule2):\n",
    "# print(ft.feasible_test(temp_schedule))\n",
    "# print(ft.feasible_test(temp_schedule2))\n",
    "#     result = False\n",
    "    stop_flag= False\n",
    "    gene_pool = []\n",
    "    gene_score = []\n",
    "\n",
    "#  cross_index1 = random.randint(0, len(schedule_1)-1-6)\n",
    "    for i in range(len(schedule1)-6):\n",
    "#     while(result == False):\n",
    "        new_schedule = cross(schedule1,schedule2,i)\n",
    "    #     print(new_schedule)\n",
    "        result = ft.feasible_test(new_schedule)    \n",
    "        if result == True:\n",
    "    #         print(\"第{}次 : 找到feasible解!\".format(i))\n",
    "    #         print(get_score(new_schedule))\n",
    "            gene_pool.append(new_schedule)\n",
    "            gene_score.append(float(get_score(new_schedule)))\n",
    "\n",
    "\n",
    "        new_schedule2 = cross(schedule2,schedule1,i)\n",
    "        result = ft.feasible_test(new_schedule2)\n",
    "        if result == True:\n",
    "    #         print(\"第{}次 : 找到feasible解!\".format(i))\n",
    "    #         print(get_score(new_schedule))\n",
    "            gene_pool.append(new_schedule2)\n",
    "            gene_score.append(float(get_score(new_schedule)))\n",
    "\n",
    "    #     print(new_schedule)\n",
    "    #     print(new_schedule2)\n",
    "    \n",
    "#     print(gene_score)\n",
    "    gene_score_sorted = sorted(gene_score, reverse=True)\n",
    "#     print(gene_score_sorted)\n",
    "    next_gen1 = gene_pool[gene_score.index(gene_score_sorted[0])]\n",
    "    next_gen2 = gene_pool[gene_score.index(gene_score_sorted[1])]\n",
    "    if max(gene_score_sorted) == min( gene_score_sorted):\n",
    "        stop_flag = True\n",
    "    return next_gen1,next_gen2,stop_flag\n",
    "\n"
   ]
  },
  {
   "cell_type": "code",
   "execution_count": 16,
   "metadata": {
    "scrolled": false
   },
   "outputs": [
    {
     "name": "stdout",
     "output_type": "stream",
     "text": [
      "-----初始解-----\n",
      "True\n",
      "67.99382716049382\n",
      "67.99382716049382\n",
      "True\n",
      "73.18383838383838\n",
      "73.18383838383838\n",
      "-----第1子代-----\n",
      "68.79953558574249\n",
      "67.70606060606062\n",
      "68.15050505050506\n",
      "68.47382638647008\n",
      "67.0511320097527\n",
      "68.2305661983823\n",
      "69.31795735129069\n",
      "-----第2子代-----\n",
      "69.37856341189674\n",
      "69.37856341189674\n",
      "69.89708193041527\n",
      "69.89708193041527\n",
      "69.89708193041527\n",
      "69.89708193041527\n",
      "73.14643755563296\n",
      "73.14643755563296\n",
      "73.14643755563296\n",
      "71.06038159371492\n",
      "69.31795735129069\n",
      "69.31795735129069\n",
      "69.31795735129069\n",
      "69.31795735129069\n",
      "69.31795735129069\n",
      "69.31795735129069\n",
      "69.31795735129069\n",
      "69.31795735129069\n",
      "69.31795735129069\n",
      "69.31795735129069\n",
      "68.18462401795736\n",
      "68.18462401795736\n",
      "66.74253647586981\n",
      "66.74253647586981\n",
      "67.51757420952825\n",
      "67.51757420952825\n",
      "68.91548821548821\n",
      "71.03041526374861\n",
      "71.47485970819304\n",
      "67.76610549943884\n",
      "67.76610549943884\n",
      "71.99513139053369\n",
      "71.03216842757072\n",
      "71.03216842757072\n",
      "71.03216842757072\n",
      "68.66509539842873\n",
      "68.66509539842873\n",
      "68.66509539842873\n",
      "68.66509539842873\n",
      "66.76700336700337\n",
      "-----第3子代-----\n",
      "66.76700336700337\n",
      "66.76700336700337\n",
      "66.76700336700337\n",
      "66.76700336700337\n",
      "66.76700336700337\n",
      "66.76700336700337\n",
      "66.76700336700337\n",
      "66.76700336700337\n",
      "66.76700336700337\n",
      "66.76700336700337\n",
      "66.76700336700337\n",
      "66.76700336700337\n",
      "66.76700336700337\n",
      "66.76700336700337\n",
      "66.76700336700337\n",
      "66.76700336700337\n",
      "66.76700336700337\n",
      "66.76700336700337\n",
      "66.76700336700337\n",
      "66.76700336700337\n",
      "66.76700336700337\n",
      "66.76700336700337\n",
      "66.76700336700337\n",
      "66.76700336700337\n",
      "66.76700336700337\n",
      "66.76700336700337\n",
      "66.76700336700337\n",
      "66.76700336700337\n",
      "66.76700336700337\n",
      "66.76700336700337\n",
      "66.76700336700337\n",
      "66.76700336700337\n",
      "66.76700336700337\n",
      "66.76700336700337\n",
      "66.76700336700337\n",
      "66.76700336700337\n",
      "66.76700336700337\n",
      "66.76700336700337\n",
      "66.76700336700337\n",
      "66.76700336700337\n",
      "66.76700336700337\n",
      "66.76700336700337\n",
      "66.76700336700337\n",
      "66.76700336700337\n",
      "66.76700336700337\n",
      "66.76700336700337\n",
      "66.76700336700337\n",
      "66.76700336700337\n",
      "66.76700336700337\n",
      "66.76700336700337\n",
      "66.76700336700337\n",
      "66.76700336700337\n",
      "66.76700336700337\n",
      "66.76700336700337\n",
      "66.76700336700337\n",
      "66.76700336700337\n",
      "66.76700336700337\n",
      "66.76700336700337\n",
      "66.76700336700337\n",
      "66.76700336700337\n",
      "66.76700336700337\n",
      "66.76700336700337\n",
      "66.76700336700337\n",
      "66.76700336700337\n",
      "66.76700336700337\n",
      "66.76700336700337\n",
      "66.76700336700337\n",
      "66.76700336700337\n",
      "66.76700336700337\n",
      "66.76700336700337\n",
      "66.76700336700337\n",
      "66.76700336700337\n",
      "66.76700336700337\n",
      "66.76700336700337\n",
      "66.76700336700337\n",
      "66.76700336700337\n",
      "66.76700336700337\n",
      "66.76700336700337\n",
      "-----已找到最佳解，得分為：73.18383838383838-----\n",
      "['306008001', '307942001', '', '306525001', '356808001', '', '307851001', '306736001', '', '307867001', '307873001', '', '356019001', '356388001', '', '356387001', '356395001', '', '356813001', '306016022', '', '306000001', '307034001', '', '306737001', '356389001', '', '307857001', '306016002', '', '356425001', '307901001', '', '356461001', '307035001', '', '356822001', '307932001', '', '306016012', '356564001', '', '307870001', '306050011', '']\n"
     ]
    }
   ],
   "source": [
    "temp_schedule = ['306000001','','306008001','356461001','','306016002','356425001','','306016012','307873001','','307867001','','','307870001',\n",
    " '306016022','307857001','306050011','','356388001','307851001','306525001','','307035001','','356395001','307034001','356564001','306736001','306737001',\n",
    "'307932001','','356822001','','356389001','356019001','','356387001','307901001','356813001','','356808001','','','307942001']\n",
    "\n",
    "temp_schedule2 = ['306008001', '307942001', '', '306525001', '356808001', '', '307851001', '306736001', '', '307867001', '307873001', '', '356019001', '356388001', '', '356387001', '356395001', '', '356813001', '306016022', '', '306000001', '307034001', '', '306737001', '356389001', '', '307857001', '306016002', '', '356425001', '307901001', '', '356461001', '307035001', '', '356822001', '307932001', '', '306016012', '356564001', '', '307870001', '306050011', '']\n",
    "\n",
    "best_score = 0\n",
    "best_schedule= []\n",
    "stop_flag = False\n",
    "\n",
    "print(\"-----初始解-----\")\n",
    "print(ft.feasible_test(temp_schedule))\n",
    "if get_score(temp_schedule) > best_score:\n",
    "    best_score = get_score(temp_schedule)\n",
    "    best_schedule = temp_schedule\n",
    "    \n",
    "print(ft.feasible_test(temp_schedule2))\n",
    "if get_score(temp_schedule2) > best_score:\n",
    "    best_score = get_score(temp_schedule2)\n",
    "    best_schedule = temp_schedule2\n",
    "\n",
    "next_gen1,next_gen2 = temp_schedule,temp_schedule2\n",
    "\n",
    "for i in range(1,100):\n",
    "    print(\"-----第{}子代-----\".format(i))\n",
    "    next_gen1,next_gen2,stop_flag = one_generation(next_gen1,next_gen2)\n",
    "    if stop_flag:\n",
    "        break\n",
    "        \n",
    "    if get_score(next_gen1) > best_score:\n",
    "        best_score = get_score(next_gen1)\n",
    "        best_schedule = next_gen1\n",
    "        \n",
    "    \n",
    "    \n",
    "print(\"-----已找到最佳解，得分為：{}-----\".format(best_score))    \n",
    "print(best_schedule)\n",
    "\n",
    "    # print(ft.feasible_test(next_gen1))\n",
    "    # print(next_gen1)\n",
    "    # print(ft.feasible_test(next_gen2))\n",
    "    # print(next_gen2)\n",
    "# print(\"-----第2子代-----\")\n",
    "# next_gen1,next_gen2 = one_generation(next_gen1,next_gen2)\n",
    "# print(\"-----第3子代-----\")\n",
    "# next_gen1,next_gen2 = one_generation(next_gen1,next_gen2)\n",
    "# print(\"-----第4子代-----\")\n",
    "# next_gen1,next_gen2 = one_generation(next_gen1,next_gen2)\n",
    "# print(\"-----第5子代-----\")\n",
    "# next_gen1,next_gen2 = one_generation(next_gen1,next_gen2)\n",
    "# print(\"-----第6子代-----\")\n",
    "# next_gen1,next_gen2 = one_generation(next_gen1,next_gen2)\n",
    "# print(\"-----第7子代-----\")\n",
    "# next_gen1,next_gen2 = one_generation(next_gen1,next_gen2)\n",
    "# print(\"-----第8子代-----\")\n",
    "# next_gen1,next_gen2 = one_generation(next_gen1,next_gen2)\n",
    "# print(\"-----第9子代-----\")\n",
    "# next_gen1,next_gen2 = one_generation(next_gen1,next_gen2)\n",
    "# print(\"-----第10子代-----\")\n",
    "# next_gen1,next_gen2 = one_generation(next_gen1,next_gen2)"
   ]
  },
  {
   "cell_type": "code",
   "execution_count": null,
   "metadata": {
    "collapsed": true
   },
   "outputs": [],
   "source": []
  },
  {
   "cell_type": "code",
   "execution_count": null,
   "metadata": {
    "collapsed": true
   },
   "outputs": [],
   "source": []
  },
  {
   "cell_type": "code",
   "execution_count": 29,
   "metadata": {},
   "outputs": [
    {
     "name": "stdout",
     "output_type": "stream",
     "text": [
      "[2, 8, 6, 4, 5, 7, 1, 3]\n",
      "(0,12)\n"
     ]
    },
    {
     "ename": "IndexError",
     "evalue": "list index out of range",
     "output_type": "error",
     "traceback": [
      "\u001b[1;31m---------------------------------------------------------------------------\u001b[0m",
      "\u001b[1;31mIndexError\u001b[0m                                Traceback (most recent call last)",
      "\u001b[1;32m<ipython-input-29-e7d4548d697a>\u001b[0m in \u001b[0;36m<module>\u001b[1;34m()\u001b[0m\n\u001b[0;32m     15\u001b[0m \u001b[1;33m\u001b[0m\u001b[0m\n\u001b[0;32m     16\u001b[0m \u001b[0mprint\u001b[0m\u001b[1;33m(\u001b[0m\u001b[0ma\u001b[0m\u001b[1;33m)\u001b[0m\u001b[1;33m\u001b[0m\u001b[0m\n\u001b[1;32m---> 17\u001b[1;33m \u001b[0mresult\u001b[0m \u001b[1;33m=\u001b[0m \u001b[0mcross\u001b[0m\u001b[1;33m(\u001b[0m\u001b[0ma\u001b[0m\u001b[1;33m,\u001b[0m\u001b[0mb\u001b[0m\u001b[1;33m)\u001b[0m\u001b[1;33m\u001b[0m\u001b[0m\n\u001b[0m\u001b[0;32m     18\u001b[0m \u001b[0mprint\u001b[0m\u001b[1;33m(\u001b[0m\u001b[0mresult\u001b[0m\u001b[1;33m)\u001b[0m\u001b[1;33m\u001b[0m\u001b[0m\n",
      "\u001b[1;32m<ipython-input-28-640343dcdbba>\u001b[0m in \u001b[0;36mcross\u001b[1;34m(schedule_1, schedule_2)\u001b[0m\n\u001b[0;32m     31\u001b[0m \u001b[1;33m\u001b[0m\u001b[0m\n\u001b[0;32m     32\u001b[0m         \u001b[1;32mfor\u001b[0m \u001b[0mi\u001b[0m \u001b[1;32min\u001b[0m \u001b[0mrange\u001b[0m\u001b[1;33m(\u001b[0m\u001b[0mcross_index1\u001b[0m\u001b[1;33m,\u001b[0m\u001b[0mcross_index2\u001b[0m\u001b[1;33m)\u001b[0m\u001b[1;33m:\u001b[0m \u001b[1;31m#cross範圍\u001b[0m\u001b[1;33m\u001b[0m\u001b[0m\n\u001b[1;32m---> 33\u001b[1;33m             \u001b[0mdata\u001b[0m \u001b[1;33m=\u001b[0m \u001b[0mnew_schedule\u001b[0m\u001b[1;33m[\u001b[0m\u001b[0mi\u001b[0m\u001b[1;33m]\u001b[0m \u001b[1;31m# i位置資料 (ex:此處是2)\u001b[0m\u001b[1;33m\u001b[0m\u001b[0m\n\u001b[0m\u001b[0;32m     34\u001b[0m             \u001b[0mdata_index\u001b[0m \u001b[1;33m=\u001b[0m \u001b[0mschedule_1\u001b[0m\u001b[1;33m.\u001b[0m\u001b[0mindex\u001b[0m\u001b[1;33m(\u001b[0m\u001b[0mdata\u001b[0m\u001b[1;33m)\u001b[0m \u001b[1;31m#此筆資料位於原schedule的什麼位置 (ex:此處2找到位於為schedule \"0的位置\" )\u001b[0m\u001b[1;33m\u001b[0m\u001b[0m\n\u001b[0;32m     35\u001b[0m     \u001b[1;31m#         print(data_index)\u001b[0m\u001b[1;33m\u001b[0m\u001b[1;33m\u001b[0m\u001b[0m\n",
      "\u001b[1;31mIndexError\u001b[0m: list index out of range"
     ]
    }
   ],
   "source": [
    "a = [2,8,6,4,5,7,1,3]\n",
    "b = [8,7,2,1,3,4,6,5]\n",
    "\n",
    "# origin\n",
    "# 2 8 | 6 4 5 | 7 1 3\n",
    "# 8 7 | 2 1 3 | 4 6 5\n",
    "\n",
    "# cross finish\n",
    "# 2 8 | 2 1 3 | 7 1 3\n",
    "# 8 7 | 6 4 5 | 4 6 5 \n",
    "\n",
    "# fix (ex: 2去換回\"自己\"原本有的6)\n",
    "# 6 8 | 2 1 3 | 7 4 5\n",
    "# 8 7 | 6 4 5 | 4 6 5\n",
    "\n",
    "print(a)\n",
    "result = cross(a,b)\n",
    "print(result)"
   ]
  },
  {
   "cell_type": "code",
   "execution_count": 30,
   "metadata": {},
   "outputs": [
    {
     "data": {
      "text/plain": [
       "1"
      ]
     },
     "execution_count": 30,
     "metadata": {},
     "output_type": "execute_result"
    }
   ],
   "source": [
    "import random\n",
    "random.randint(0, 1)\n"
   ]
  },
  {
   "cell_type": "code",
   "execution_count": 21,
   "metadata": {},
   "outputs": [
    {
     "data": {
      "text/plain": [
       "'ha,pp,'"
      ]
     },
     "execution_count": 21,
     "metadata": {},
     "output_type": "execute_result"
    }
   ],
   "source": [
    "mystr = \"happy\"\n",
    "mystr[0:2]+\",\"+mystr[2:4]+\",\"+mystr[4:5]\n",
    "mystr[0:2]+\",\"+mystr[2:4]+\",\"+mystr[5:5]"
   ]
  },
  {
   "cell_type": "code",
   "execution_count": 24,
   "metadata": {},
   "outputs": [
    {
     "name": "stdout",
     "output_type": "stream",
     "text": [
      "0,1,2,3,4,5,6,7,8,9,10,11,12,13,14,15,16,17,18,19,20,21,22,23,24,25,26,27,28,29,30,31,"
     ]
    }
   ],
   "source": [
    "for i in range(32):\n",
    "    print(i,end=\",\")"
   ]
  },
  {
   "cell_type": "code",
   "execution_count": null,
   "metadata": {
    "collapsed": true
   },
   "outputs": [],
   "source": [
    "for i in range(2, 4):\n",
    "    print(mystr[i])"
   ]
  },
  {
   "cell_type": "code",
   "execution_count": 3,
   "metadata": {
    "scrolled": true
   },
   "outputs": [
    {
     "name": "stdout",
     "output_type": "stream",
     "text": [
      "True\n",
      "False\n",
      "False\n",
      "False\n",
      "True\n",
      "Error: 所有的課程應該都被排下去\n",
      "False\n",
      "Error: 不可以有重複課程\n",
      "False\n",
      "Error: 不可以有重複課程\n",
      "False\n"
     ]
    }
   ],
   "source": [
    "schedule_feasible = ['306000001','','306008001','356461001','','306016002','356425001','','306016012','307873001','','307867001','','','307870001',\n",
    " '306016022','307857001','306050011','','356388001','307851001','306525001','','307035001','','356395001','307034001','356564001','306736001','306737001',\n",
    "'307932001','','356822001','','356389001','356019001','','356387001','307901001','356813001','','356808001','','','307942001']\n",
    "\n",
    "schedule_feasible2 = ['','','306008001','306016002','306000001','','356425001','','306016012','307873001','','307867001','307942001','','307870001',\n",
    " '306016022','307857001','306050011','356387001','356388001','307851001','306525001','','307035001','306736001','356395001','307034001','356461001','','306737001',\n",
    "'307932001','','356822001','','356389001','356019001','356564001','','307901001','356813001','','356808001','','','']\n",
    "\n",
    "schedule_miss_class = ['','','306008001','','','306016002','356425001','','306016012','307873001','','307867001','307942001','','307870001',\n",
    " '306016022','307857001','306050011','356387001','356388001','307851001','306525001','','307035001','306736001','356395001','307034001','356461001','','306737001',\n",
    "'307932001','','356822001','','356389001','356019001','356564001','','307901001','356813001','','356808001','','','']\n",
    "\n",
    "schedule_multiple_profeesor = ['306000001','306000001','306008001','','','306016002','356425001','','306016012','307873001','','307867001','307942001','','307870001',\n",
    " '306016022','307857001','306050011','356387001','356388001','307851001','306525001','','307035001','306736001','356395001','307034001','356461001','','306737001',\n",
    "'307932001','','356822001','','356389001','356019001','356564001','','307901001','356813001','','356808001','','','']\n",
    "\n",
    "print(ft.feasible_test(schedule_feasible))\n",
    "print(ft.feasible_test(schedule_miss_class))\n",
    "print(ft.feasible_test(schedule_multiple_class))\n",
    "print(ft.feasible_test(schedule_multiple_profeesor))\n",
    "\n",
    "print(fterr.feasible_test(schedule_feasible))\n",
    "print(fterr.feasible_test(schedule_miss_class))\n",
    "print(fterr.feasible_test(schedule_multiple_class))\n",
    "print(fterr.feasible_test(schedule_multiple_profeesor))"
   ]
  },
  {
   "cell_type": "code",
   "execution_count": 5,
   "metadata": {},
   "outputs": [
    {
     "name": "stdout",
     "output_type": "stream",
     "text": [
      "True\n",
      "True\n"
     ]
    }
   ],
   "source": [
    "test = ['306008001', '307942001', '', '306525001', '356808001', '', '307851001', '306736001', '', '307867001', '307873001', '', '356019001', '356388001', '', '356387001', '356395001', '', '356813001', '306016022', '', '306000001', '307034001', '', '306737001', '356389001', '', '307857001', '306016002', '', '356425001', '307901001', '', '356461001', '307035001', '', '356822001', '307932001', '', '306016012', '356564001', '', '307870001', '306050011', '']\n",
    "test2 = ['306008001', '307942001', '', '306525001', '356808001', '', '307851001', '306736001', '', '307867001', '307873001', '', '356019001', '356388001', '', '356387001', '356395001', '', '356813001', '306016022', '', '306000001', '307034001', '', '306737001', '356389001', '', '307857001', '306016002', '', '356425001', '307901001', '', '356461001', '307035001', '', '356822001', '307932001', '', '306016012', '356564001', '', '307870001', '306050011', '']\n",
    "\n",
    "\n",
    "print(fterr.feasible_test(test))\n",
    "print(fterr.feasible_test(test2))"
   ]
  },
  {
   "cell_type": "code",
   "execution_count": null,
   "metadata": {
    "collapsed": true
   },
   "outputs": [],
   "source": []
  }
 ],
 "metadata": {
  "kernelspec": {
   "display_name": "Python 3",
   "language": "python",
   "name": "python3"
  },
  "language_info": {
   "codemirror_mode": {
    "name": "ipython",
    "version": 3
   },
   "file_extension": ".py",
   "mimetype": "text/x-python",
   "name": "python",
   "nbconvert_exporter": "python",
   "pygments_lexer": "ipython3",
   "version": "3.6.3"
  },
  "varInspector": {
   "cols": {
    "lenName": 16,
    "lenType": 16,
    "lenVar": 40
   },
   "kernels_config": {
    "python": {
     "delete_cmd_postfix": "",
     "delete_cmd_prefix": "del ",
     "library": "var_list.py",
     "varRefreshCmd": "print(var_dic_list())"
    },
    "r": {
     "delete_cmd_postfix": ") ",
     "delete_cmd_prefix": "rm(",
     "library": "var_list.r",
     "varRefreshCmd": "cat(var_dic_list()) "
    }
   },
   "types_to_exclude": [
    "module",
    "function",
    "builtin_function_or_method",
    "instance",
    "_Feature"
   ],
   "window_display": false
  }
 },
 "nbformat": 4,
 "nbformat_minor": 2
}
