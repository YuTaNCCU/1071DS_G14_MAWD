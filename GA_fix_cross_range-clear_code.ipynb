{
 "cells": [
  {
   "cell_type": "code",
   "execution_count": 1,
   "metadata": {},
   "outputs": [
    {
     "name": "stdout",
     "output_type": "stream",
     "text": [
      "rule1:  55.24691358024691\n",
      "[2, 1, 2, 2, 2, 3, 3, 2, 3, 2, 2, 2, 2, 2, 0]\n",
      "68 60.0 75.0\n",
      "rule2:  89.33333333333333\n",
      "rule3:  30.42424242424242\n",
      "rule4:  36.0\n",
      "Objval: 56.320426487093144\n",
      "56.320426487093144\n"
     ]
    }
   ],
   "source": [
    "import feasible_test as ft\n",
    "import feasible_test_with_print_error as fterr\n",
    "import random\n",
    "import functions as func\n",
    "import functions_with_print as funcpt\n",
    "import pandas as pd\n",
    "import numpy as np\n",
    "\n",
    "#讀取courseDetail\n",
    "courseDetail = pd.read_csv('data/course.csv')[['course code', 'Number of students', 'instructor']]\n",
    "courseDetail['course code']=courseDetail['course code'].astype(str)\n",
    "RoomDetail = pd.read_csv('data/classroom.csv')[['classroom', 'cr_capacity']]\n",
    "\n",
    "#variables\n",
    "roomNum=3 #教室數量\n",
    "weekdays=5 #上課日子\n",
    "dailyParts=3 #parts=將一天劃分為[早上、下午、晚上]\n",
    "period=weekdays*dailyParts #15 一個weekdays中，不分教室的區塊總數\n",
    "session=roomNum*weekdays*dailyParts #45 一個weekdays中，空教室的總數(一維陣列的長度)\n",
    "k=weekdays*roomNum #15 [早上、下午、晚上] 一個part中的session數(索引調整參數)\n",
    "totalCourseNum=30\n",
    "\n",
    "def get_score(schedule):\n",
    "    return func.ObjFun(schedule,courseDetail, roomNum, k, RoomDetail, session, period, totalCourseNum)"
   ]
  },
  {
   "cell_type": "code",
   "execution_count": null,
   "metadata": {
    "collapsed": true
   },
   "outputs": [],
   "source": []
  },
  {
   "cell_type": "code",
   "execution_count": null,
   "metadata": {
    "collapsed": true
   },
   "outputs": [],
   "source": []
  },
  {
   "cell_type": "code",
   "execution_count": null,
   "metadata": {
    "collapsed": true
   },
   "outputs": [],
   "source": []
  },
  {
   "cell_type": "code",
   "execution_count": 2,
   "metadata": {
    "collapsed": true
   },
   "outputs": [],
   "source": [
    "def cross(schedule_1,schedule_2,cross_index1):\n",
    "    # select cross index\n",
    "    cross_index2 = cross_index1 + 6\n",
    "\n",
    "    # make new schedule\n",
    "    new_schedule = schedule_1[0: cross_index1] + schedule_2[cross_index1 : cross_index2] + schedule_1[cross_index2 : 45]   \n",
    "     \n",
    "    for i in range(cross_index1,cross_index2): #cross範圍\n",
    "        data = new_schedule[i] # i位置資料 (ex:此處是2)\n",
    "        data_index = schedule_1.index(data) #此筆資料位於原schedule的什麼位置 (ex:此處2找到位於為schedule \"0的位置\" )\n",
    "        new_schedule[data_index] = schedule_1[i] # new_schedule的該位置換成cross對應字串 (ex:此處原\"0的位置\" 2換成 \"i對應位置的6\" )\n",
    "\n",
    "    return new_schedule\n",
    "  \n",
    "    "
   ]
  },
  {
   "cell_type": "code",
   "execution_count": 3,
   "metadata": {
    "collapsed": true
   },
   "outputs": [],
   "source": [
    "def one_generation(schedule1,schedule2):\n",
    "    stop_flag= False\n",
    "    gene_pool = []\n",
    "    gene_score = []\n",
    "\n",
    "    for i in range(len(schedule1)-6):\n",
    "        new_schedule = cross(schedule1,schedule2,i)\n",
    "        result = ft.feasible_test(new_schedule)    \n",
    "        if result == True:\n",
    "            gene_pool.append(new_schedule)\n",
    "            gene_score.append(float(get_score(new_schedule)))\n",
    "\n",
    "\n",
    "        new_schedule2 = cross(schedule2,schedule1,i)\n",
    "        result = ft.feasible_test(new_schedule2)\n",
    "        if result == True:\n",
    "            gene_pool.append(new_schedule2)\n",
    "            gene_score.append(float(get_score(new_schedule)))\n",
    "\n",
    "    gene_score_sorted = sorted(gene_score, reverse=True)\n",
    "    next_gen1 = gene_pool[gene_score.index(gene_score_sorted[0])]\n",
    "    next_gen2 = gene_pool[gene_score.index(gene_score_sorted[1])]\n",
    "    if max(gene_score_sorted) == min( gene_score_sorted):\n",
    "        stop_flag = True\n",
    "    return next_gen1,next_gen2,stop_flag\n",
    "\n"
   ]
  },
  {
   "cell_type": "code",
   "execution_count": 5,
   "metadata": {
    "scrolled": false
   },
   "outputs": [
    {
     "name": "stdout",
     "output_type": "stream",
     "text": [
      "-----初始解-----\n",
      "True\n",
      "True\n",
      "-----第1子代-----\n",
      "此子代最高得分為: 67.99382716049382\n",
      "-----第2子代-----\n",
      "此子代最高得分為: 69.31795735129069\n",
      "-----第3子代-----\n",
      "此子代最高得分為: 66.76700336700337\n",
      "-----已找到最佳解，得分為：73.18383838383838-----\n",
      "['306008001', '307942001', '', '306525001', '356808001', '', '307851001', '306736001', '', '307867001', '307873001', '', '356019001', '356388001', '', '356387001', '356395001', '', '356813001', '306016022', '', '306000001', '307034001', '', '306737001', '356389001', '', '307857001', '306016002', '', '356425001', '307901001', '', '356461001', '307035001', '', '356822001', '307932001', '', '306016012', '356564001', '', '307870001', '306050011', '']\n"
     ]
    }
   ],
   "source": [
    "temp_schedule = ['306000001','','306008001','356461001','','306016002','356425001','','306016012','307873001','','307867001','','','307870001',\n",
    " '306016022','307857001','306050011','','356388001','307851001','306525001','','307035001','','356395001','307034001','356564001','306736001','306737001',\n",
    "'307932001','','356822001','','356389001','356019001','','356387001','307901001','356813001','','356808001','','','307942001']\n",
    "\n",
    "temp_schedule2 = ['306008001', '307942001', '', '306525001', '356808001', '', '307851001', '306736001', '', '307867001', '307873001', '', '356019001', '356388001', '', '356387001', '356395001', '', '356813001', '306016022', '', '306000001', '307034001', '', '306737001', '356389001', '', '307857001', '306016002', '', '356425001', '307901001', '', '356461001', '307035001', '', '356822001', '307932001', '', '306016012', '356564001', '', '307870001', '306050011', '']\n",
    "\n",
    "best_score = 0\n",
    "best_schedule= []\n",
    "stop_flag = False\n",
    "\n",
    "print(\"-----初始解-----\")\n",
    "print(ft.feasible_test(temp_schedule))\n",
    "if get_score(temp_schedule) > best_score:\n",
    "    best_score = get_score(temp_schedule)\n",
    "    best_schedule = temp_schedule\n",
    "    \n",
    "print(ft.feasible_test(temp_schedule2))\n",
    "if get_score(temp_schedule2) > best_score:\n",
    "    best_score = get_score(temp_schedule2)\n",
    "    best_schedule = temp_schedule2\n",
    "\n",
    "next_gen1,next_gen2 = temp_schedule,temp_schedule2\n",
    "\n",
    "for i in range(1,100):\n",
    "    print(\"-----第{}子代-----\".format(i))\n",
    "    print(\"此子代最高得分為: {}\".format(get_score(next_gen1)))\n",
    "    next_gen1,next_gen2,stop_flag = one_generation(next_gen1,next_gen2)\n",
    "    if stop_flag:\n",
    "        break\n",
    "        \n",
    "    if get_score(next_gen1) > best_score:\n",
    "        best_score = get_score(next_gen1)\n",
    "        best_schedule = next_gen1\n",
    "    \n",
    "print(\"-----已找到最佳解，得分為：{}-----\".format(best_score))    \n",
    "print(best_schedule)"
   ]
  },
  {
   "cell_type": "code",
   "execution_count": null,
   "metadata": {
    "collapsed": true
   },
   "outputs": [],
   "source": []
  },
  {
   "cell_type": "code",
   "execution_count": null,
   "metadata": {
    "collapsed": true
   },
   "outputs": [],
   "source": []
  }
 ],
 "metadata": {
  "kernelspec": {
   "display_name": "Python 3",
   "language": "python",
   "name": "python3"
  },
  "language_info": {
   "codemirror_mode": {
    "name": "ipython",
    "version": 3
   },
   "file_extension": ".py",
   "mimetype": "text/x-python",
   "name": "python",
   "nbconvert_exporter": "python",
   "pygments_lexer": "ipython3",
   "version": "3.6.3"
  },
  "varInspector": {
   "cols": {
    "lenName": 16,
    "lenType": 16,
    "lenVar": 40
   },
   "kernels_config": {
    "python": {
     "delete_cmd_postfix": "",
     "delete_cmd_prefix": "del ",
     "library": "var_list.py",
     "varRefreshCmd": "print(var_dic_list())"
    },
    "r": {
     "delete_cmd_postfix": ") ",
     "delete_cmd_prefix": "rm(",
     "library": "var_list.r",
     "varRefreshCmd": "cat(var_dic_list()) "
    }
   },
   "types_to_exclude": [
    "module",
    "function",
    "builtin_function_or_method",
    "instance",
    "_Feature"
   ],
   "window_display": false
  }
 },
 "nbformat": 4,
 "nbformat_minor": 2
}
