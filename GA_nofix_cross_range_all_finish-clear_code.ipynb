{
 "cells": [
  {
   "cell_type": "code",
   "execution_count": 1,
   "metadata": {
    "collapsed": true
   },
   "outputs": [],
   "source": [
    "import feasible_test as ft\n",
    "import feasible_test_with_print_error as fterr\n",
    "import random\n",
    "import new_random_initial_solution as new_init_sol\n",
    "import functions as func\n",
    "import pandas as pd\n",
    "import numpy as np\n",
    "import get_initial as gi\n",
    "import time\n",
    "\n",
    "#讀取courseDetail\n",
    "courseDetail = pd.read_csv('data/course.csv')[['course code', 'Number of students', 'instructor']]\n",
    "courseDetail['course code']=courseDetail['course code'].astype(str)\n",
    "RoomDetail = pd.read_csv('data/classroom.csv')[['classroom', 'cr_capacity']]\n",
    "teacherDetail= pd.read_csv('data/instructor.csv')[['i_no', 'instructor name']]\n",
    "cNum = len(courseDetail['instructor']) \t#課程總數\n",
    "tNum = len(teacherDetail['i_no'])+1\t\t#老師總數\n",
    "\n",
    "#variables\n",
    "roomNum=3 #教室數量\n",
    "weekdays=5 #上課日子\n",
    "dailyParts=3 #parts=將一天劃分為[早上、下午、晚上]\n",
    "period=weekdays*dailyParts #15 一個weekdays中，不分教室的區塊總數\n",
    "session=roomNum*weekdays*dailyParts #45 一個weekdays中，空教室的總數(一維陣列的長度)\n",
    "k=weekdays*roomNum #15 [早上、下午、晚上] 一個part中的session數(索引調整參數)\n",
    "totalCourseNum=30\n",
    "\n",
    "def get_score(schedule):\n",
    "    return func.ObjFun(schedule,courseDetail, roomNum, k, RoomDetail, session, period, totalCourseNum)"
   ]
  },
  {
   "cell_type": "code",
   "execution_count": null,
   "metadata": {
    "collapsed": true
   },
   "outputs": [],
   "source": []
  },
  {
   "cell_type": "code",
   "execution_count": null,
   "metadata": {
    "collapsed": true
   },
   "outputs": [],
   "source": []
  },
  {
   "cell_type": "code",
   "execution_count": null,
   "metadata": {
    "collapsed": true
   },
   "outputs": [],
   "source": []
  },
  {
   "cell_type": "code",
   "execution_count": 2,
   "metadata": {
    "collapsed": true
   },
   "outputs": [],
   "source": [
    "def cross(schedule_1,schedule_2):\n",
    "    while(True):\n",
    "        # select cross index\n",
    "        cross_index1 = random.randint(0, len(schedule_1)-1)\n",
    "        cross_index2 = random.randint(0, len(schedule_2)-1)\n",
    "        while(cross_index1 >= cross_index2):\n",
    "            cross_index1 = random.randint(0, len(schedule_1)-1)\n",
    "            cross_index2 = random.randint(0, len(schedule_2)-1)\n",
    "\n",
    "        # make new schedule\n",
    "        new_schedule = schedule_1[0: cross_index1] + schedule_2[cross_index1 : cross_index2] + schedule_1[cross_index2 : 45]  \n",
    "\n",
    "        # origin\n",
    "        # 2 8 | 6 4 5 | 7 1 3\n",
    "        # 8 7 | 2 1 3 | 4 6 5\n",
    "\n",
    "        # cross finish\n",
    "        # 2 8 | 2 1 3 | 7 1 3\n",
    "        # 8 7 | 6 4 5 | 4 6 5 \n",
    "\n",
    "        # fix (ex: 2去換回\"自己\"原本有的6)\n",
    "        # 6 8 | 2 1 3 | 7 4 5\n",
    "        # 8 7 | 6 4 5 | 4 6 5\n",
    "\n",
    "        for i in range(cross_index1,cross_index2): #cross範圍\n",
    "            data = new_schedule[i] # i位置資料 (ex:此處是2)\n",
    "            data_index = schedule_1.index(data) #此筆資料位於原schedule的什麼位置 (ex:此處2找到位於為schedule \"0的位置\" )\n",
    "            new_schedule[data_index] = schedule_1[i] # new_schedule的該位置換成cross對應字串 (ex:此處原\"0的位置\" 2換成 \"i對應位置的6\" )\n",
    "\n",
    "        if ft.feasible_test(new_schedule):  \n",
    "#             print(\"找到解!\")\n",
    "            return new_schedule\n",
    "\n",
    "        # ------------------------------------------------------------------#\n",
    "        # make new schedule reverse\n",
    "        new_schedule = schedule_2[0: cross_index1] + schedule_1[cross_index1 : cross_index2] + schedule_2[cross_index2 : 45]  \n",
    "\n",
    "        for i in range(cross_index1,cross_index2): #cross範圍\n",
    "            data = new_schedule[i] # i位置資料 (ex:此處是2)\n",
    "            data_index = schedule_2.index(data) #此筆資料位於原schedule的什麼位置 (ex:此處2找到位於為schedule \"0的位置\" )\n",
    "            new_schedule[data_index] = schedule_2[i] # new_schedule的該位置換成cross對應字串 (ex:此處原\"0的位置\" 2換成 \"i對應位置的6\" )\n",
    "\n",
    "        if ft.feasible_test(new_schedule):  \n",
    "#             print(\"找到解!\")\n",
    "            return new_schedule\n",
    "        # ------------------------------------------------------------------#\n",
    "\n",
    "  \n",
    "    "
   ]
  },
  {
   "cell_type": "code",
   "execution_count": 3,
   "metadata": {
    "collapsed": true
   },
   "outputs": [],
   "source": [
    "def one_generation(schedule1,schedule2):\n",
    "    result = False\n",
    "    stop_flag= False\n",
    "    gene_pool = []\n",
    "    gene_score = []\n",
    "    result_count = 0\n",
    "\n",
    "    while(result_count < 100):\n",
    "        new_schedule = cross(schedule1,schedule2)\n",
    "        result_count += 1\n",
    "        gene_pool.append(new_schedule)\n",
    "        gene_score.append(float(get_score(new_schedule)))\n",
    "#         print(\"在此子代中找到第 {} 個解, 得分為: {}\".format(result_count,get_score(new_schedule)))\n",
    "  \n",
    "    gene_score_sorted = sorted(gene_score, reverse=True)\n",
    "    \n",
    "    next_gen1 = gene_pool[gene_score.index(gene_score_sorted[0])]    \n",
    "    \n",
    "    if max(gene_score_sorted) == min(gene_score_sorted):\n",
    "        stop_flag = True\n",
    "        next_gen2 = next_gen1 \n",
    "    else:\n",
    "        for score_data in gene_score_sorted:\n",
    "            if score_data == max(gene_score_sorted):\n",
    "                pass\n",
    "            else:\n",
    "                next_gen2 = gene_pool[gene_score.index(score_data)]\n",
    "                break \n",
    "                \n",
    "    return next_gen1,next_gen2,stop_flag\n",
    "\n"
   ]
  },
  {
   "cell_type": "code",
   "execution_count": 4,
   "metadata": {
    "collapsed": true
   },
   "outputs": [],
   "source": [
    "def get_one_ans():\n",
    "    temp_schedule = new_init_sol.get_schedule()\n",
    "    temp_schedule2 = new_init_sol.get_schedule()\n",
    "    while(temp_schedule == temp_schedule2):\n",
    "        temp_schedule2 = new_init_sol.get_schedule()\n",
    "        \n",
    "    print(\"初始解1得分為: {}\".format(get_score(temp_schedule)))\n",
    "    print(\"初始解2得分為: {}\".format(get_score(temp_schedule2)))\n",
    "\n",
    "    delta = 0.0000001\n",
    "    best_score = 0\n",
    "    same_high_score_count = 0\n",
    "    best_schedule= []\n",
    "    stop_flag = False\n",
    "\n",
    "    if get_score(temp_schedule2) > best_score:\n",
    "        best_score = get_score(temp_schedule2)\n",
    "        best_schedule = temp_schedule2\n",
    "\n",
    "    next_gen1,next_gen2 = temp_schedule, temp_schedule2\n",
    "\n",
    "    for i in range(1,1000):\n",
    "        next_gen1,next_gen2,stop_flag = one_generation(next_gen1,next_gen2)\n",
    "        if get_score(next_gen1) - best_score < delta:\n",
    "            same_high_score_count += 1\n",
    "        else:\n",
    "            same_high_score_count = 0\n",
    "\n",
    "        if stop_flag:\n",
    "            break\n",
    "\n",
    "        if same_high_score_count >= 10:\n",
    "            break\n",
    "\n",
    "        if get_score(next_gen1) > best_score:\n",
    "            best_score = get_score(next_gen1)\n",
    "            best_schedule = next_gen1\n",
    "            \n",
    "    print(\"---> 已找到最佳解，得分為：{}\\n\".format(best_score))\n",
    "#     print(best_schedule)\n",
    "    \n",
    "    return best_schedule,best_score"
   ]
  },
  {
   "cell_type": "code",
   "execution_count": 5,
   "metadata": {
    "collapsed": true,
    "scrolled": false
   },
   "outputs": [],
   "source": [
    "def get_one_ans_print_details():\n",
    "    temp_schedule = new_init_sol.get_schedule()\n",
    "    temp_schedule2 = new_init_sol.get_schedule()\n",
    "    while(temp_schedule == temp_schedule2):\n",
    "        temp_schedule2 = new_init_sol.get_schedule()\n",
    "\n",
    "    delta = 0.0000001\n",
    "    best_score = 0\n",
    "    same_high_score_count = 0\n",
    "    best_schedule= []\n",
    "    stop_flag = False\n",
    "\n",
    "    print(\"-----初始解-----\")\n",
    "    print(\"------初始解1------\")\n",
    "    print(temp_schedule)\n",
    "    print(ft.feasible_test(temp_schedule))\n",
    "    print(\"得分為: {}\".format(get_score(temp_schedule)))\n",
    "    if get_score(temp_schedule) > best_score:\n",
    "        best_score = get_score(temp_schedule)\n",
    "        best_schedule = temp_schedule\n",
    "\n",
    "    print(\"------初始解2------\")\n",
    "    print(temp_schedule2)    \n",
    "    print(ft.feasible_test(temp_schedule2))\n",
    "    print(\"得分為: {}\".format(get_score(temp_schedule2)))\n",
    "    if get_score(temp_schedule2) > best_score:\n",
    "        best_score = get_score(temp_schedule2)\n",
    "        best_schedule = temp_schedule2\n",
    "\n",
    "    next_gen1,next_gen2 = temp_schedule, temp_schedule2\n",
    "\n",
    "    for i in range(1,1000):\n",
    "        print(\"-----第{}子代-----\".format(i))\n",
    "        next_gen1,next_gen2,stop_flag = one_generation(next_gen1,next_gen2)\n",
    "        print(\"此子代最高得分為: {}\".format(get_score(next_gen1)))\n",
    "        if get_score(next_gen1) - best_score < delta:\n",
    "            same_high_score_count += 1\n",
    "            print(\"*** 目前共第 {} 子代並未找到更加解! ***\".format(same_high_score_count))\n",
    "        else:\n",
    "            same_high_score_count = 0\n",
    "\n",
    "        if stop_flag:\n",
    "            break\n",
    "\n",
    "        if same_high_score_count >= 10:\n",
    "            break\n",
    "\n",
    "        if get_score(next_gen1) > best_score:\n",
    "            best_score = get_score(next_gen1)\n",
    "            best_schedule = next_gen1\n",
    "\n",
    "    print(\"-----已找到最佳解，得分為：{}-----\".format(best_score))    \n",
    "    print(best_schedule)\n",
    "    \n",
    "    return best_schedule,best_score"
   ]
  },
  {
   "cell_type": "code",
   "execution_count": 6,
   "metadata": {
    "scrolled": false
   },
   "outputs": [
    {
     "name": "stdout",
     "output_type": "stream",
     "text": [
      "------ 第 1 次找解 ------\n",
      "初始解1得分為: 696.9203142536476\n",
      "初始解2得分為: 692.3748597081931\n",
      "---> 已找到最佳解，得分為：709.6644219977554\n",
      "\n",
      "------ 第 2 次找解 ------\n",
      "初始解1得分為: 675.7553310886643\n",
      "初始解2得分為: 696.942760942761\n",
      "---> 已找到最佳解，得分為：720.2817059483726\n",
      "\n",
      "------ 第 3 次找解 ------\n",
      "初始解1得分為: 688.1189674523008\n",
      "初始解2得分為: 698.7441077441077\n",
      "---> 已找到最佳解，得分為：718.7306397306398\n",
      "\n",
      "------ 第 4 次找解 ------\n",
      "初始解1得分為: 686.8877665544333\n",
      "初始解2得分為: 695.7856341189673\n",
      "---> 已找到最佳解，得分為：713.8709315375983\n",
      "\n",
      "------ 第 5 次找解 ------\n",
      "初始解1得分為: 691.4523007856342\n",
      "初始解2得分為: 693.4579124579125\n",
      "---> 已找到最佳解，得分為：703.615039281706\n",
      "\n",
      "------ 第 6 次找解 ------\n",
      "初始解1得分為: 705.615039281706\n",
      "初始解2得分為: 681.3748597081931\n",
      "---> 已找到最佳解，得分為：714.2570145903479\n",
      "\n",
      "------ 第 7 次找解 ------\n",
      "初始解1得分為: 683.016835016835\n",
      "初始解2得分為: 689.6038159371493\n",
      "---> 已找到最佳解，得分為：710.1245791245792\n",
      "\n",
      "------ 第 8 次找解 ------\n",
      "初始解1得分為: 709.2817059483725\n",
      "初始解2得分為: 676.1683501683502\n",
      "---> 已找到最佳解，得分為：709.9483726150393\n",
      "\n",
      "------ 第 9 次找解 ------\n",
      "初始解1得分為: 709.2817059483726\n",
      "初始解2得分為: 689.8047138047139\n",
      "---> 已找到最佳解，得分為：724.493827160494\n",
      "\n",
      "------ 第 10 次找解 ------\n",
      "初始解1得分為: 682.2704826038159\n",
      "初始解2得分為: 679.8294051627386\n",
      "---> 已找到最佳解，得分為：701.9180695847363\n",
      "\n"
     ]
    }
   ],
   "source": [
    "best_schedule_list = []\n",
    "best_score_list = []\n",
    "calculate_time_list = []\n",
    "\n",
    "for i in range(10):\n",
    "    print(\"------ 第 {} 次找解 ------\".format(i+1))\n",
    "    start_time = time.time()\n",
    "    best_schedule,best_score = get_one_ans()\n",
    "#     best_schedule,best_score = get_one_ans_print_details()\n",
    "    end_time = time.time()\n",
    "    \n",
    "    best_schedule_list.append(best_schedule)\n",
    "    best_score_list.append(best_score)\n",
    "    calculate_time_list.append(end_time - start_time)"
   ]
  },
  {
   "cell_type": "code",
   "execution_count": 7,
   "metadata": {},
   "outputs": [
    {
     "name": "stdout",
     "output_type": "stream",
     "text": [
      "[709.6644219977554, 720.2817059483726, 718.7306397306398, 713.8709315375983, 703.615039281706, 714.2570145903479, 710.1245791245792, 709.9483726150393, 724.493827160494, 701.9180695847363]\n",
      "[19.643171787261963, 10.451020956039429, 28.324418544769287, 17.759281158447266, 16.355666160583496, 16.16285014152527, 17.549039602279663, 15.833794832229614, 17.748189687728882, 17.217735290527344]\n"
     ]
    }
   ],
   "source": [
    "print(best_score_list)\n",
    "print(calculate_time_list)"
   ]
  },
  {
   "cell_type": "code",
   "execution_count": 10,
   "metadata": {},
   "outputs": [
    {
     "name": "stdout",
     "output_type": "stream",
     "text": [
      "['356395001', '306050011', '', '356461001', '', '356808001', '307873001', '307851001', '', '', '356388001', '306016022', '307870001', '306000001', '306525001', '307034001', '306737001', '', '356822001', '', '307932001', '356389001', '307035001', '', '356813001', '307942001', '', '306016012', '', '306736001', '307867001', '', '', '306016002', '', '306008001', '', '356387001', '307857001', '356019001', '356564001', '', '307901001', '', '356425001']\n"
     ]
    }
   ],
   "source": [
    "# print(best_schedule_list[best_score.index(max(best_score))])\n",
    "print(best_schedule_list[8])"
   ]
  },
  {
   "cell_type": "code",
   "execution_count": null,
   "metadata": {
    "collapsed": true
   },
   "outputs": [],
   "source": []
  }
 ],
 "metadata": {
  "kernelspec": {
   "display_name": "Python 3",
   "language": "python",
   "name": "python3"
  },
  "language_info": {
   "codemirror_mode": {
    "name": "ipython",
    "version": 3
   },
   "file_extension": ".py",
   "mimetype": "text/x-python",
   "name": "python",
   "nbconvert_exporter": "python",
   "pygments_lexer": "ipython3",
   "version": "3.6.3"
  },
  "varInspector": {
   "cols": {
    "lenName": 16,
    "lenType": 16,
    "lenVar": 40
   },
   "kernels_config": {
    "python": {
     "delete_cmd_postfix": "",
     "delete_cmd_prefix": "del ",
     "library": "var_list.py",
     "varRefreshCmd": "print(var_dic_list())"
    },
    "r": {
     "delete_cmd_postfix": ") ",
     "delete_cmd_prefix": "rm(",
     "library": "var_list.r",
     "varRefreshCmd": "cat(var_dic_list()) "
    }
   },
   "types_to_exclude": [
    "module",
    "function",
    "builtin_function_or_method",
    "instance",
    "_Feature"
   ],
   "window_display": false
  }
 },
 "nbformat": 4,
 "nbformat_minor": 2
}
