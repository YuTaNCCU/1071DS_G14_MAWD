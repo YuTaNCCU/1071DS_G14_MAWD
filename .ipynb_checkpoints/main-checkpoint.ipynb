{
 "cells": [
  {
   "cell_type": "code",
   "execution_count": 1,
   "metadata": {},
   "outputs": [],
   "source": [
    "import tabu_search_functions"
   ]
  },
  {
   "cell_type": "code",
   "execution_count": 2,
   "metadata": {},
   "outputs": [
    {
     "name": "stdout",
     "output_type": "stream",
     "text": [
      "Random Initial Solution:  ['356813001', '307870001', '307932001', '356019001', '306016012', '356564001', '306525001', '307942001', '306050011', '356387001', '356389001', '', '306008001', '307034001', '', '307867001', '356813002', '', '307851001', '306016022', '', '356813004', '307873001', '', '356822001', '356395001', '', '356461001', '306736001', '', '306000001', '356388001', '', '306737001', '306016002', '', '356425001', '307901001', '', '307857001', '356813003', '', '356808001', '307035001', '']\n",
      "Initial Solution: \n",
      " ['306000001', '', '306008001', '', '', '306016002', '356425001', '', '306016012', '307873001', '', '307867001', '307942001', '', '307870001', '306016022', '307857001', '306050011', '356387001', '356388001', '307851001', '306525001', '', '307035001', '306736001', '356395001', '307034001', '356461001', '', '306737001', '307932001', '', '356822001', '', '356389001', '356019001', '356564001', '', '307901001', '356813001', '', '356808001', '', '', '']\n",
      "Initial Obj. Val.:  758.5297418630753\n",
      "TABU SEARCH: \n",
      "CURRENT STEPS: 10 \n",
      "BEST SCORE: 775.465769 \n",
      "BEST MEMBER: ['356387001', '307942001', '', '306525001', '356813002', '356425001', '307857001', '', '356813001', '356019001', '306736001', '', '307867001', '306016022', '', '356388001', '356461001', '', '356813003', '307870001', '', '356813004', '307932001', '356822001', '307901001', '356395001', '', '', '307873001', '307035001', '307034001', '306016012', '', '307851001', '306050011', '306000001', '356564001', '306016002', '', '306737001', '356389001', '', '356808001', '', '306008001'] \n",
      "\n",
      "\n",
      "TABU SEARCH: \n",
      "CURRENT STEPS: 20 \n",
      "BEST SCORE: 782.199776 \n",
      "BEST MEMBER: ['356387001', '307942001', '', '306016022', '307873001', '', '306050011', '356808001', '356019001', '356564001', '356813003', '', '356813004', '356388001', '', '306737001', '356389001', '', '307867001', '', '307857001', '307035001', '356461001', '307901001', '306016012', '', '356813001', '', '356822001', '306525001', '306016002', '', '356395001', '307851001', '306736001', '306000001', '307870001', '307034001', '', '306008001', '356813002', '', '307932001', '356425001', ''] \n",
      "\n",
      "\n",
      "TABU SEARCH: \n",
      "CURRENT STEPS: 30 \n",
      "BEST SCORE: 782.199776 \n",
      "BEST MEMBER: ['356387001', '307942001', '', '306016022', '307873001', '', '306050011', '356808001', '356019001', '356564001', '356813003', '', '356813004', '356388001', '', '306737001', '356389001', '', '307867001', '', '307857001', '307035001', '356461001', '307901001', '306016012', '', '356813001', '', '356822001', '306525001', '306016002', '', '356395001', '307851001', '306736001', '306000001', '307870001', '307034001', '', '306008001', '356813002', '', '307932001', '356425001', ''] \n",
      "\n",
      "\n",
      "TERMINATING - REACHED MAXIMUM STEPS\n"
     ]
    }
   ],
   "source": [
    "TabuSearchResult = tabu_search_functions.TabuSearch()"
   ]
  },
  {
   "cell_type": "code",
   "execution_count": 4,
   "metadata": {},
   "outputs": [
    {
     "ename": "NameError",
     "evalue": "name 'TabuSearchCustomized' is not defined",
     "output_type": "error",
     "traceback": [
      "\u001b[0;31m---------------------------------------------------------------------------\u001b[0m",
      "\u001b[0;31mNameError\u001b[0m                                 Traceback (most recent call last)",
      "\u001b[0;32m<ipython-input-4-8bf5dbe153d2>\u001b[0m in \u001b[0;36m<module>\u001b[0;34m()\u001b[0m\n\u001b[1;32m      6\u001b[0m \u001b[0;32mfor\u001b[0m \u001b[0mi\u001b[0m \u001b[0;32min\u001b[0m \u001b[0mrange\u001b[0m\u001b[0;34m(\u001b[0m\u001b[0;36m2\u001b[0m\u001b[0;34m)\u001b[0m\u001b[0;34m:\u001b[0m\u001b[0;34m\u001b[0m\u001b[0m\n\u001b[1;32m      7\u001b[0m     \u001b[0mstart_time\u001b[0m \u001b[0;34m=\u001b[0m \u001b[0mtime\u001b[0m\u001b[0;34m.\u001b[0m\u001b[0mtime\u001b[0m\u001b[0;34m(\u001b[0m\u001b[0;34m)\u001b[0m\u001b[0;34m\u001b[0m\u001b[0m\n\u001b[0;32m----> 8\u001b[0;31m     \u001b[0mTSRun\u001b[0m \u001b[0;34m=\u001b[0m \u001b[0mTabuSearchCustomized\u001b[0m\u001b[0;34m(\u001b[0m\u001b[0mInitialSolution\u001b[0m\u001b[0;34m,\u001b[0m \u001b[0;36m10\u001b[0m\u001b[0;34m,\u001b[0m \u001b[0;36m30\u001b[0m\u001b[0;34m,\u001b[0m \u001b[0mmax_score\u001b[0m\u001b[0;34m=\u001b[0m\u001b[0;32mNone\u001b[0m\u001b[0;34m)\u001b[0m \u001b[0;31m#填入initial solution： Tabu List數, 迭代次數\u001b[0m\u001b[0;34m\u001b[0m\u001b[0m\n\u001b[0m\u001b[1;32m      9\u001b[0m     \u001b[0mTSRun\u001b[0m \u001b[0;34m=\u001b[0m \u001b[0mtabu_search_functions\u001b[0m\u001b[0;34m.\u001b[0m\u001b[0mTabuSearch\u001b[0m\u001b[0;34m(\u001b[0m\u001b[0;34m)\u001b[0m\u001b[0;34m\u001b[0m\u001b[0m\n\u001b[1;32m     10\u001b[0m     \u001b[0mprint\u001b[0m\u001b[0;34m(\u001b[0m\u001b[0mTSRun\u001b[0m\u001b[0;34m)\u001b[0m\u001b[0;34m\u001b[0m\u001b[0m\n",
      "\u001b[0;31mNameError\u001b[0m: name 'TabuSearchCustomized' is not defined"
     ]
    }
   ],
   "source": [
    "import time\n",
    "ScoreRecord=[]\n",
    "Schedule_optimized=[]\n",
    "TimeRecord=[]\n",
    "    \n",
    "for i in range(2):\n",
    "    start_time = time.time()\n",
    "    TSRun = tabu_search_functions.TabuSearch()\n",
    "    print(TSRun)\n",
    "    ScoreRecord.append(TSRun[1])\n",
    "    Schedule_optimized.append(TSRun[0])\n",
    "    TimeRecord.append(time.time() - start_time)"
   ]
  },
  {
   "cell_type": "code",
   "execution_count": null,
   "metadata": {},
   "outputs": [],
   "source": [
    "TabuSearchResult\n",
    "#[0][0]"
   ]
  }
 ],
 "metadata": {
  "kernelspec": {
   "display_name": "Python 3",
   "language": "python",
   "name": "python3"
  },
  "language_info": {
   "codemirror_mode": {
    "name": "ipython",
    "version": 3
   },
   "file_extension": ".py",
   "mimetype": "text/x-python",
   "name": "python",
   "nbconvert_exporter": "python",
   "pygments_lexer": "ipython3",
   "version": "3.6.5"
  }
 },
 "nbformat": 4,
 "nbformat_minor": 2
}
